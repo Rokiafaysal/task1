{
 "cells": [
  {
   "cell_type": "code",
   "execution_count": null,
   "id": "cf0b8c9b",
   "metadata": {},
   "outputs": [],
   "source": []
  },
  {
   "cell_type": "code",
   "execution_count": 24,
   "id": "9fe10828",
   "metadata": {},
   "outputs": [
    {
     "name": "stdout",
     "output_type": "stream",
     "text": [
      "Forward Pass\n",
      "Hidden Layer Output: [0.47532432 0.6245324 ]\n",
      " Output: [0.1210581]\n",
      "Loss: [0.23048105]\n",
      "\n",
      " Updated Weights & Biases\n",
      "Hidden Weights:\n",
      " [[-0.12635053  0.45001244]\n",
      " [ 0.23021265  0.09725474]]\n",
      "Hidden Biases: [0.48218712 0.68596259]\n",
      "Output Weights:\n",
      " [[-0.31218254]\n",
      " [-0.30222476]]\n",
      "Output Biases: [0.5668992]\n"
     ]
    }
   ],
   "source": [
    "import numpy as np\n",
    "\n",
    "# Activation Function\n",
    "def tanh(x):\n",
    "    return np.tanh(x)\n",
    "\n",
    "def tanh_derivative(x):\n",
    "    return 1 - np.tanh(x) ** 2\n",
    "\n",
    "# Input Values\n",
    "a1, a2 = 0.05, 0.10\n",
    "input_layer = np.array([a1, a2])\n",
    "\n",
    "np.random.seed(42)\n",
    "hidden_weights = np.random.uniform(-0.5, 0.5, (2, 2))\n",
    "hidden_bias = np.array([0.5, 0.7])\n",
    "\n",
    "output_weights = np.random.uniform(-0.5, 0.5, (2, 1))\n",
    "output_bias = np.array([0.5])\n",
    "\n",
    "expected_output = np.array([0.8])\n",
    "\n",
    "hidden_input = np.dot(input_layer, hidden_weights) + hidden_bias\n",
    "hidden_output = tanh(hidden_input)\n",
    "\n",
    "final_input = np.dot(hidden_output, output_weights) + output_bias\n",
    "final_output = tanh(final_input)\n",
    "\n",
    "print(\"Forward Pass\")\n",
    "print(\"Hidden Layer Output:\", hidden_output)\n",
    "print(\" Output:\", final_output)\n",
    "\n",
    "# Compute Error\n",
    "error = 0.5 * (expected_output - final_output) ** 2\n",
    "print(\"Loss:\", error)\n",
    "\n",
    "output_error = expected_output - final_output\n",
    "output_delta = output_error * tanh_derivative(final_input)\n",
    "\n",
    "hidden_error = output_delta * output_weights.T\n",
    "hidden_delta = hidden_error * tanh_derivative(hidden_input)\n",
    "\n",
    "learning_rate = 0.1\n",
    "\n",
    "output_weights += learning_rate * hidden_output.reshape(-1, 1) * output_delta\n",
    "output_bias += learning_rate * output_delta\n",
    "\n",
    "hidden_weights += learning_rate * np.outer(input_layer, hidden_delta)\n",
    "hidden_bias += learning_rate * hidden_delta.flatten()\n",
    "\n",
    "print(\"\\n Updated Weights & Biases\")\n",
    "print(\"Hidden Weights:\\n\", hidden_weights)\n",
    "print(\"Hidden Biases:\", hidden_bias)\n",
    "print(\"Output Weights:\\n\", output_weights)\n",
    "print(\"Output Biases:\", output_bias)\n"
   ]
  },
  {
   "cell_type": "code",
   "execution_count": null,
   "id": "fb3a3074",
   "metadata": {},
   "outputs": [],
   "source": []
  }
 ],
 "metadata": {
  "kernelspec": {
   "display_name": "Python 3 (ipykernel)",
   "language": "python",
   "name": "python3"
  },
  "language_info": {
   "codemirror_mode": {
    "name": "ipython",
    "version": 3
   },
   "file_extension": ".py",
   "mimetype": "text/x-python",
   "name": "python",
   "nbconvert_exporter": "python",
   "pygments_lexer": "ipython3",
   "version": "3.11.5"
  }
 },
 "nbformat": 4,
 "nbformat_minor": 5
}
